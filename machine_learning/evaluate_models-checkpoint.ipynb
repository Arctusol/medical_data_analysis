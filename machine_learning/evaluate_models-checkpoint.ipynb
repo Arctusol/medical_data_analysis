{
 "cells": [
  {
   "cell_type": "markdown",
   "metadata": {},
   "source": [
    "# Évaluation des Modèles de Recommandation d'Hôpitaux\n",
    "\n",
    "Ce notebook effectue une évaluation complète de notre système de recommandation d'hôpitaux."
   ]
  },
  {
   "cell_type": "code",
   "execution_count": null,
   "metadata": {},
   "source": [
    "import sys\n",
    "sys.path.append('../')\n",
    "\n",
    "import pandas as pd\n",
    "import numpy as np\n",
    "import matplotlib.pyplot as plt\n",
    "import seaborn as sns\n",
    "from google.cloud import bigquery\n",
    "import os\n",
    "\n",
    "from utils.data_preparation import load_data, prepare_datasets\n",
    "from classification_service.service_classifier import train_service_classifier\n",
    "from duration_prediction.duration_predictor import train_duration_predictor\n",
    "from recommendation.hospital_recommender import HospitalRecommender\n",
    "from evaluation.temporal_validation import TemporalValidator\n",
    "from evaluation.metrics import (\n",
    "    evaluate_service_classification,\n",
    "    evaluate_duration_prediction,\n",
    "    evaluate_recommendations\n",
    ")"
   ]
  },
  {
   "cell_type": "markdown",
   "metadata": {},
   "source": [
    "## 1. Chargement et Préparation des Données"
   ]
  },
  {
   "cell_type": "code",
   "execution_count": null,
   "metadata": {},
   "source": [
    "# Charger les données\n",
    "df_hospi = load_data()\n",
    "datasets = prepare_datasets(df_hospi)\n",
    "\n",
    "# Afficher les informations sur les données\n",
    "print(\"Taille des ensembles de données :\")\n",
    "for name, df in datasets.items():\n",
    "    print(f\"{name}: {df.shape}\")"
   ]
  },
  {
   "cell_type": "markdown",
   "metadata": {},
   "source": [
    "## 2. Évaluation du Modèle de Classification des Services"
   ]
  },
  {
   "cell_type": "code",
   "execution_count": null,
   "metadata": {},
   "source": [
    "# Initialiser le validateur temporel\n",
    "validator = TemporalValidator(n_splits=3)\n",
    "\n",
    "# Valider le modèle de classification\n",
    "service_results = validator.validate_service_classifier(\n",
    "    train_service_classifier,\n",
    "    datasets['dpt_ens']\n",
    ")\n",
    "\n",
    "# Afficher les résultats\n",
    "print(\"\\nMétriques moyennes de classification :\")\n",
    "for metric, value in service_results['avg_metrics'].items():\n",
    "    print(f\"{metric}: {value:.4f}\")\n",
    "\n",
    "# Visualiser l'évolution des métriques\n",
    "plt.figure(figsize=(12, 6))\n",
    "metrics_to_plot = ['accuracy', 'macro_f1']\n",
    "for metric in metrics_to_plot:\n",
    "    values = [split[metric] for split in service_results['split_metrics']]\n",
    "    plt.plot(values, label=metric)\n",
    "plt.title('Évolution des Métriques de Classification')\n",
    "plt.xlabel('Split Temporel')\n",
    "plt.ylabel('Score')\n",
    "plt.legend()\n",
    "plt.show()"
   ]
  },
  {
   "cell_type": "markdown",
   "metadata": {},
   "source": [
    "## 3. Évaluation du Modèle de Prédiction de Durée"
   ]
  },
  {
   "cell_type": "code",
   "execution_count": null,
   "metadata": {},
   "source": [
    "# Valider le modèle de prédiction de durée\n",
    "duration_results = validator.validate_duration_predictor(\n",
    "    train_duration_predictor,\n",
    "    datasets['dpt_ens']\n",
    ")\n",
    "\n",
    "# Afficher les résultats\n",
    "print(\"\\nMétriques moyennes de prédiction de durée :\")\n",
    "for metric, value in duration_results['avg_metrics'].items():\n",
    "    print(f\"{metric}: {value:.4f}\")\n",
    "\n",
    "# Visualiser l'évolution des métriques\n",
    "plt.figure(figsize=(12, 6))\n",
    "metrics_to_plot = ['mae', 'rmse']\n",
    "for metric in metrics_to_plot:\n",
    "    values = [split[metric] for split in duration_results['split_metrics']]\n",
    "    plt.plot(values, label=metric)\n",
    "plt.title('Évolution des Métriques de Prédiction de Durée')\n",
    "plt.xlabel('Split Temporel')\n",
    "plt.ylabel('Erreur')\n",
    "plt.legend()\n",
    "plt.show()"
   ]
  },
  {
   "cell_type": "markdown",
   "metadata": {},
   "source": [
    "## 4. Évaluation du Système de Recommandation"
   ]
  },
  {
   "cell_type": "code",
   "execution_count": null,
   "metadata": {},
   "source": [
    "# Créer des cas de test\n",
    "test_cases = [\n",
    "    {\n",
    "        'patient_data': {\n",
    "            'age': 45,\n",
    "            'sexe': 'H',\n",
    "            'pathologie': 'example_pathology',\n",
    "            'region': 'Île-de-France'\n",
    "        },\n",
    "        'ground_truth': {\n",
    "            'appropriate_hospitals': ['Hospital_1', 'Hospital_2'],\n",
    "            'relevance_scores': {'Hospital_1': 0.9, 'Hospital_2': 0.8}\n",
    "        }\n",
    "    }\n",
    "    # Ajouter plus de cas de test ici\n",
    "]\n",
    "\n",
    "# Initialiser le système de recommandation\n",
    "recommender = HospitalRecommender()\n",
    "\n",
    "# Valider le système de recommandation\n",
    "recommendation_results = validator.validate_recommendation_system(\n",
    "    recommender,\n",
    "    datasets['dpt_ens'],\n",
    "    test_cases\n",
    ")\n",
    "\n",
    "# Afficher les résultats\n",
    "print(\"\\nMétriques moyennes de recommandation :\")\n",
    "for metric, value in recommendation_results['avg_metrics'].items():\n",
    "    print(f\"{metric}: {value:.4f}\")"
   ]
  },
  {
   "cell_type": "markdown",
   "metadata": {},
   "source": [
    "## 5. Analyse des Tendances Temporelles"
   ]
  },
  {
   "cell_type": "code",
   "execution_count": null,
   "metadata": {},
   "source": [
    "# Analyser les tendances temporelles\n",
    "service_trends = validator.analyze_temporal_trends(service_results)\n",
    "duration_trends = validator.analyze_temporal_trends(duration_results)\n",
    "\n",
    "# Afficher les résultats\n",
    "print(\"\\nTendances temporelles - Classification des Services :\")\n",
    "for metric, trend in service_trends.items():\n",
    "    print(f\"{metric}:\")\n",
    "    print(f\"  - Pente: {trend['slope']:.4f}\")\n",
    "    print(f\"  - Stabilité: {trend['stability']:.4f}\")\n",
    "\n",
    "print(\"\\nTendances temporelles - Prédiction de Durée :\")\n",
    "for metric, trend in duration_trends.items():\n",
    "    print(f\"{metric}:\")\n",
    "    print(f\"  - Pente: {trend['slope']:.4f}\")\n",
    "    print(f\"  - Stabilité: {trend['stability']:.4f}\")"
   ]
  },
  {
   "cell_type": "markdown",
   "metadata": {},
   "source": [
    "## 6. Conclusions et Recommandations\n",
    "\n",
    "Basé sur les résultats ci-dessus, nous pouvons conclure :\n",
    "\n",
    "1. **Classification des Services** :\n",
    "   - Performance globale\n",
    "   - Points forts et faiblesses par service\n",
    "   - Stabilité temporelle\n",
    "\n",
    "2. **Prédiction de Durée** :\n",
    "   - Précision des prédictions\n",
    "   - Variations par tranche de durée\n",
    "   - Évolution temporelle\n",
    "\n",
    "3. **Système de Recommandation** :\n",
    "   - Pertinence des recommandations\n",
    "   - Diversité des suggestions\n",
    "   - Adaptation aux contraintes géographiques\n",
    "\n",
    "### Recommandations d'Amélioration :\n",
    "\n",
    "1. [À compléter après l'analyse des résultats]\n",
    "2. [À compléter après l'analyse des résultats]\n",
    "3. [À compléter après l'analyse des résultats]"
   ]
  }
 ],
 "metadata": {
  "kernelspec": {
   "display_name": "Python 3",
   "language": "python",
   "name": "python3"
  },
  "language_info": {
   "codemirror_mode": {
    "name": "ipython",
    "version": 3
   },
   "file_extension": ".py",
   "mimetype": "text/x-python",
   "name": "python",
   "nbconvert_exporter": "python",
   "pygments_lexer": "ipython3",
   "version": "3.8.0"
  }
 },
 "nbformat": 4,
 "nbformat_minor": 4
}
