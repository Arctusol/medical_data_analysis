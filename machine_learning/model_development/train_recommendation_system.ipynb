{
 "cells": [
  {
   "cell_type": "markdown",
   "metadata": {},
   "source": [
    "# Développement du Système de Recommandation d'Hôpitaux\n",
    "\n",
    "Ce notebook démontre l'entraînement et l'utilisation du système de recommandation d'hôpitaux."
   ]
  },
  {
   "cell_type": "code",
   "execution_count": null,
   "metadata": {},
   "outputs": [],
   "source": [
    "import sys\n",
    "sys.path.append('../')\n",
    "\n",
    "import pandas as pd\n",
    "import mlflow\n",
    "from machine_learning.classification_service.service_classifier import train_service_classifier\n",
    "from machine_learning.duration_prediction.duration_predictor import train_duration_predictor\n",
    "from machine_learning.recommendation.hospital_recommender import HospitalRecommender"
   ]
  },
  {
   "cell_type": "markdown",
   "metadata": {},
   "source": [
    "## 1. Chargement et Préparation des Données"
   ]
  },
  {
   "cell_type": "code",
   "execution_count": null,
   "metadata": {},
   "outputs": [],
   "source": [
    "# Charger les données\n",
    "# TODO: Remplacer par le bon chemin vers vos données\n",
    "data = pd.read_csv('../data/your_data.csv')"
   ]
  },
  {
   "cell_type": "markdown",
   "metadata": {},
   "source": [
    "## 2. Entraînement du Modèle de Classification de Service"
   ]
  },
  {
   "cell_type": "code",
   "execution_count": null,
   "metadata": {},
   "outputs": [],
   "source": [
    "service_model = train_service_classifier(\n",
    "    data=data,\n",
    "    target_col='classification',\n",
    "    experiment_name='service_classification_v1'\n",
    ")"
   ]
  },
  {
   "cell_type": "markdown",
   "metadata": {},
   "source": [
    "## 3. Entraînement du Modèle de Prédiction de Durée"
   ]
  },
  {
   "cell_type": "code",
   "execution_count": null,
   "metadata": {},
   "outputs": [],
   "source": [
    "duration_model = train_duration_predictor(\n",
    "    data=data,\n",
    "    target_col='AVG_duree_hospi',\n",
    "    experiment_name='duration_prediction_v1'\n",
    ")"
   ]
  },
  {
   "cell_type": "markdown",
   "metadata": {},
   "source": [
    "## 4. Test du Système de Recommandation"
   ]
  },
  {
   "cell_type": "code",
   "execution_count": null,
   "metadata": {},
   "outputs": [],
   "source": [
    "# Créer une instance du recommandeur\n",
    "recommender = HospitalRecommender()\n",
    "\n",
    "# Charger les modèles entraînés\n",
    "# TODO: Remplacer par vos run_ids MLflow\n",
    "recommender.load_models(\n",
    "    service_run_id='your_service_run_id',\n",
    "    duration_run_id='your_duration_run_id'\n",
    ")\n",
    "\n",
    "# Tester avec des données patient\n",
    "test_patient = {\n",
    "    'age': 45,\n",
    "    'sexe': 'H',\n",
    "    'pathologie': 'example_pathology',\n",
    "    'region': 'example_region'\n",
    "}\n",
    "\n",
    "recommendations = recommender.predict(test_patient)\n",
    "print(\"Recommandations d'hôpitaux :\")\n",
    "for rec in recommendations:\n",
    "    print(rec)"
   ]
  }
 ],
 "metadata": {
  "kernelspec": {
   "display_name": "Python 3",
   "language": "python",
   "name": "python3"
  },
  "language_info": {
   "codemirror_mode": {
    "name": "ipython",
    "version": 3
   },
   "file_extension": ".py",
   "mimetype": "text/x-python",
   "name": "python",
   "nbconvert_exporter": "python",
   "pygments_lexer": "ipython3",
   "version": "3.8.0"
  }
 },
 "nbformat": 4,
 "nbformat_minor": 4
}
